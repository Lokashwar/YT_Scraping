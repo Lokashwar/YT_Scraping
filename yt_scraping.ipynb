{
 "cells": [
  {
   "cell_type": "markdown",
   "metadata": {},
   "source": [
    "# YT Scraping"
   ]
  },
  {
   "cell_type": "code",
   "execution_count": null,
   "metadata": {},
   "outputs": [],
   "source": [
    "pip install selenium"
   ]
  },
  {
   "cell_type": "code",
   "execution_count": null,
   "metadata": {},
   "outputs": [],
   "source": [
    "from selenium import webdriver\n",
    "from selenium.webdriver.common.by import By\n",
    "from selenium.webdriver.support.ui import WebDriverWait\n",
    "from selenium.webdriver.support import expected_conditions as EC\n",
    "import os"
   ]
  },
  {
   "cell_type": "code",
   "execution_count": null,
   "metadata": {},
   "outputs": [
    {
     "name": "stdout",
     "output_type": "stream",
     "text": [
      "Description successfully saved to youtube_description.txt\n"
     ]
    }
   ],
   "source": [
    "import time\n",
    "driver = webdriver.Chrome()\n",
    "wait = WebDriverWait(driver, 10)\n",
    "driver.get('https://www.youtube.com/watch?v=51SHOoYK2y8')\n",
    "driver.maximize_window()\n",
    "ActionChains(driver).scroll_by_amount(0, 400).perform()\n",
    "time.sleep(2)\n",
    "\n",
    "more_button_xpath = \"//tp-yt-paper-button[@id='expand']\"\n",
    "more_button = driver.find_element(By.XPATH, more_button_xpath)\n",
    "more_button.click()\n",
    "time.sleep(5)\n",
    "\n",
    "description_container_xpath = \"//div[@id='description']\"\n",
    "WebDriverWait(driver, 10).until(\n",
    "    EC.presence_of_element_located((By.XPATH, description_container_xpath))\n",
    ")\n",
    "\n",
    "description_container = driver.find_element(By.XPATH, description_container_xpath)\n",
    "description = description_container.text.strip()\n",
    "\n",
    "file = open(\"youtube_description.txt\", \"w\", encoding=\"utf-8\")\n",
    "file.write(description)\n",
    "\n",
    "time.sleep(5)\n",
    "print(\"Description successfully saved to youtube_description.txt\")\n",
    "\n",
    "driver.quit()"
   ]
  }
 ],
 "metadata": {
  "kernelspec": {
   "display_name": "Python 3",
   "language": "python",
   "name": "python3"
  },
  "language_info": {
   "codemirror_mode": {
    "name": "ipython",
    "version": 3
   },
   "file_extension": ".py",
   "mimetype": "text/x-python",
   "name": "python",
   "nbconvert_exporter": "python",
   "pygments_lexer": "ipython3",
   "version": "3.12.4"
  }
 },
 "nbformat": 4,
 "nbformat_minor": 2
}
